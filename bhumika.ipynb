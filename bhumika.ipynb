{
  "nbformat": 4,
  "nbformat_minor": 0,
  "metadata": {
    "colab": {
      "name": "bhumika.ipynb",
      "provenance": [],
      "collapsed_sections": [],
      "authorship_tag": "ABX9TyOMQ1pqA3UdqvLi2CNjozQu",
      "include_colab_link": true
    },
    "kernelspec": {
      "name": "python3",
      "display_name": "Python 3"
    },
    "language_info": {
      "name": "python"
    }
  },
  "cells": [
    {
      "cell_type": "markdown",
      "metadata": {
        "id": "view-in-github",
        "colab_type": "text"
      },
      "source": [
        "<a href=\"https://colab.research.google.com/github/Bhumikaramamurthy/bhumika_assignment_day1/blob/main/bhumika.ipynb\" target=\"_parent\"><img src=\"https://colab.research.google.com/assets/colab-badge.svg\" alt=\"Open In Colab\"/></a>"
      ]
    },
    {
      "cell_type": "code",
      "metadata": {
        "id": "mBM_dcBMSSOn",
        "colab": {
          "base_uri": "https://localhost:8080/"
        },
        "outputId": "806ed59d-0672-45c7-e9b5-f0a0c8ecd6c1"
      },
      "source": [
        "a=[int(i) for i in input('Enter values:').split()]\n",
        "print('the given input is:')\n",
        "print(a)\n",
        "print('the sorted list in descending order is:')\n",
        "a.sort(reverse=True)\n",
        "print(a)"
      ],
      "execution_count": 6,
      "outputs": [
        {
          "output_type": "stream",
          "text": [
            "Enter values:80 94 99 5\n",
            "the given input is:\n",
            "[80, 94, 99, 5]\n",
            "the sorted list in descending order is:\n",
            "[99, 94, 80, 5]\n"
          ],
          "name": "stdout"
        }
      ]
    }
  ]
}