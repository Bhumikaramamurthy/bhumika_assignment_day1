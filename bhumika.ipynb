{
  "nbformat": 4,
  "nbformat_minor": 0,
  "metadata": {
    "colab": {
      "name": "bhumika.ipynb",
      "provenance": [],
      "collapsed_sections": [],
      "authorship_tag": "ABX9TyNkN30kr+Y3hkXPonRkQmdL",
      "include_colab_link": true
    },
    "kernelspec": {
      "name": "python3",
      "display_name": "Python 3"
    },
    "language_info": {
      "name": "python"
    }
  },
  "cells": [
    {
      "cell_type": "markdown",
      "metadata": {
        "id": "view-in-github",
        "colab_type": "text"
      },
      "source": [
        "<a href=\"https://colab.research.google.com/github/Bhumikaramamurthy/bhumika_assignment_day1/blob/main/bhumika.ipynb\" target=\"_parent\"><img src=\"https://colab.research.google.com/assets/colab-badge.svg\" alt=\"Open In Colab\"/></a>"
      ]
    },
    {
      "cell_type": "code",
      "metadata": {
        "id": "mBM_dcBMSSOn",
        "colab": {
          "base_uri": "https://localhost:8080/"
        },
        "outputId": "7146bb04-0b38-404b-da32-2847a96d4a89"
      },
      "source": [
        "a=[int(i) for i in input('Enter values:').split()]\n",
        "print('the given input is:')\n",
        "print(*a)\n",
        "print('the sorted list in descending order is:')\n",
        "a.sort(reverse=True)\n",
        "print(*a)"
      ],
      "execution_count": 7,
      "outputs": [
        {
          "output_type": "stream",
          "text": [
            "Enter values:88 95 68 99 5\n",
            "the given input is:\n",
            "88 95 68 99 5\n",
            "the sorted list in descending order is:\n",
            "99 95 88 68 5\n"
          ],
          "name": "stdout"
        }
      ]
    }
  ]
}